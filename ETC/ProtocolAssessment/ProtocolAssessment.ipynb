{
 "cells": [
  {
   "cell_type": "code",
   "execution_count": null,
   "metadata": {},
   "outputs": [],
   "source": [
    "# Elizabeth Shelton, adapted from code written by Sile Shu"
   ]
  },
  {
   "cell_type": "code",
   "execution_count": 1,
   "metadata": {},
   "outputs": [],
   "source": [
    "from pandas import Series, DataFrame\n",
    "import pandas as pd\n",
    "import numpy as np\n",
    "from scipy import spatial\n",
    "from collections import defaultdict\n",
    "import csv"
   ]
  },
  {
   "cell_type": "code",
   "execution_count": 2,
   "metadata": {},
   "outputs": [],
   "source": [
    "'''\n",
    "These class definitions are from the full pipeline; these are the structures used to transform all the concepts \n",
    "into a useful form for the protocol similarities\n",
    "'''\n",
    "class PatientStatus(object):\n",
    "    def __init__(self, name, binary, value = '', content = ''):\n",
    "        self.name = name \n",
    "        self.binary = binary\n",
    "        self.value = value\n",
    "        self.content = content\n",
    "        self.tick = 0\n",
    "        self.score = 0\n",
    "\n",
    "class ConceptExtractor(object):\n",
    "    def __init__(self, List_route):\n",
    "        '''\n",
    "        list_route: route of the list file\n",
    "        extend list: a .csv file, two colum: required concepts and its cuis.\n",
    "        status: a dict, keys are concepts, values are corresponding informations. \n",
    "                Indicates the default status of the patient.\n",
    "        self.CUIs: list of the requied CUIs\n",
    "        self.CUI2Concept: mapping the CUIs to the concepts\n",
    "        self.Status: dict to store the information\n",
    "        self.mm: MetaMap object\n",
    "        self.R_range: range of value retrival in the text, default: 30\n",
    "        self.pattern: pattern of the requied value\n",
    "        '''\n",
    "        extended_concept_list = pd.read_csv(List_route)\n",
    "        self.seeds = list()\n",
    "        \n",
    "        self.CUIs = [item for item in extended_concept_list['CUI']]\n",
    "        self.CUI2Concept = defaultdict(list)\n",
    "        for idx,item in enumerate(extended_concept_list['Required Concept']):\n",
    "            if not pd.isnull(item):\n",
    "                temp = item.lower()\n",
    "                self.seeds.append(temp)\n",
    "                self.CUI2Concept[self.CUIs[idx]].append(temp)\n",
    "            else:\n",
    "                self.CUI2Concept[self.CUIs[idx]].append(temp)\n",
    "        \n",
    "        \n",
    "    def StatusInit(self):\n",
    "        '''\n",
    "        if don't have a defined initial status, this function can generate a default status from the concept list\n",
    "        all the binary status are defined as False initially\n",
    "        '''\n",
    "        self.Status = dict()\n",
    "        for item in self.seeds:\n",
    "            if item == 'breath' or item == 'pulse' or item == 'conscious':\n",
    "                self.Status[item] = PatientStatus(item, True)\n",
    "            else:\n",
    "                self.Status[item] = PatientStatus(item, False)\n",
    "                \n",
    "    def SpecificInit(self, item):\n",
    "        '''\n",
    "        init a specific item in the dictionary\n",
    "        '''\n",
    "        if item == 'breath' or item == 'pulse' or item == 'conscious':\n",
    "            self.Status[item] = PatientStatus(item, True)\n",
    "        else:\n",
    "            self.Status[item] = PatientStatus(item, False)\n",
    "\n",
    "                "
   ]
  },
  {
   "cell_type": "code",
   "execution_count": 3,
   "metadata": {
    "scrolled": true
   },
   "outputs": [],
   "source": [
    "# Read in the concepts and create a list corresponding to each one\n",
    "slist = \"concept_list(s&s)_revised.csv\"\n",
    "exlist = \"CLfromVt.csv\"\n",
    "\n",
    "vcl = pd.read_csv(exlist)\n",
    "'''\n",
    "create a ConceptExtractor and initialize the patient status\n",
    "the list here is the complete list\n",
    "'''\n",
    "\n",
    "sce = ConceptExtractor(slist)\n",
    "sce.StatusInit()\n",
    "for item in vcl:\n",
    "    sce.SpecificInit(item)\n",
    "\n",
    "signs = sce.Status\n",
    "# print(signs)"
   ]
  },
  {
   "cell_type": "code",
   "execution_count": 4,
   "metadata": {},
   "outputs": [],
   "source": [
    "# Turns the protocols into vectors of concepts\n",
    "protocols = 'ODEMSA_Protocols_Expanded_weighted.xls'\n",
    "PC = dict()\n",
    "pro_df = pd.read_excel(protocols)\n",
    "for line in pro_df.iterrows():\n",
    "    if not pd.isnull(line[1]['Signs&Symptoms']):\n",
    "        line_ss = [(i.strip().lower()[:-1],i.strip().lower()[-1]) for i in line[1]['Signs&Symptoms'].split(';')] # if weighted\n",
    "#         line_ss = line[1]['Signs&Symptoms'].split(';') # if not weighted\n",
    "    if not pd.isnull(line[1]['Possible signs&symptoms additions']):\n",
    "        line_ssr = [(i.strip().lower()[:-1],i.strip().lower()[-1]) for i in line[1]['Possible signs&symptoms additions'].split(';')] # if weighted\n",
    "#         line_ssr = line[1]['Possible signs&symptoms additions'].split(';') # if not weighted\n",
    "\n",
    "    name = line[1]['Protocol']\n",
    "    PC[name] = line_ss + line_ssr\n",
    "# print(PC)"
   ]
  },
  {
   "cell_type": "code",
   "execution_count": 5,
   "metadata": {},
   "outputs": [
    {
     "name": "stdout",
     "output_type": "stream",
     "text": [
      "\n"
     ]
    }
   ],
   "source": [
    "PV = dict()\n",
    "all_concepts = set()\n",
    "for item in PC:\n",
    "    vec = list()\n",
    "    su = 0.\n",
    "    for i in signs:\n",
    "        res = 0.\n",
    "#         print(i)\n",
    "        for j in PC[item]:\n",
    "            all_concepts.add(j[0])\n",
    "#             print(j[0])\n",
    "            if i == j[0]:\n",
    "                res = 8.**int(j[1]) # if weighted\n",
    "#                 print(res)\n",
    "#                 res = 8.**1 # if not weighted\n",
    "                break;\n",
    "        \n",
    "        su += res\n",
    "        vec.append(res)\n",
    "    for i in range(len(vec)):\n",
    "        if su != 0:\n",
    "            vec[i] = vec[i] / su\n",
    "    PV[item] = vec\n",
    "# for thing in PV:\n",
    "#     print(thing, PV[thing])\n",
    "for x in all_concepts:\n",
    "    if x not in signs:\n",
    "        print(x)"
   ]
  },
  {
   "cell_type": "code",
   "execution_count": 6,
   "metadata": {},
   "outputs": [],
   "source": [
    " # Compare each protocol with all the others\n",
    "\n",
    "keys = list(PV.keys())\n",
    "head = ['']\n",
    "for key in keys:\n",
    "    head.append(key)\n",
    "\n",
    "results = [] # a 2D array to organize what's being printed to the CSV file\n",
    "results.append(head)\n",
    "\n",
    "for i in range(len(keys)):\n",
    "    row = []\n",
    "    row.append(keys[i])\n",
    "    for j in range(len(keys)):\n",
    "        sim = 1 - spatial.distance.cosine(PV[keys[i]], PV[keys[j]])\n",
    "        row.append(sim)\n",
    "    results.append(row)\n",
    "    \n",
    "with open('protocol_results_weighted_all.csv', 'w', newline='') as csvfile:\n",
    "    writer = csv.writer(csvfile)   \n",
    "    for line in results:\n",
    "        writer.writerow(line)\n",
    "        \n"
   ]
  },
  {
   "cell_type": "code",
   "execution_count": null,
   "metadata": {},
   "outputs": [],
   "source": []
  }
 ],
 "metadata": {
  "kernelspec": {
   "display_name": "Python 3",
   "language": "python",
   "name": "python3"
  },
  "language_info": {
   "codemirror_mode": {
    "name": "ipython",
    "version": 3
   },
   "file_extension": ".py",
   "mimetype": "text/x-python",
   "name": "python",
   "nbconvert_exporter": "python",
   "pygments_lexer": "ipython3",
   "version": "3.7.2"
  }
 },
 "nbformat": 4,
 "nbformat_minor": 2
}
